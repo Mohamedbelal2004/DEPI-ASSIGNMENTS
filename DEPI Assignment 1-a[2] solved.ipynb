{
 "cells": [
  {
   "cell_type": "markdown",
   "metadata": {},
   "source": [
    "## Python Task 3"
   ]
  },
  {
   "cell_type": "markdown",
   "metadata": {},
   "source": [
    "### Question: Count Vowels in a String\n",
    "\n",
    "**Description:** Write a function named count_vowels that takes a string as an argument and returns the count of vowels (a, e, i, o, u) in the string. \n",
    "\n",
    "The function should be case-insensitive, counting both uppercase and lowercase vowels.\n"
   ]
  },
  {
   "cell_type": "code",
   "execution_count": 3,
   "metadata": {},
   "outputs": [
    {
     "name": "stdout",
     "output_type": "stream",
     "text": [
      "3\n"
     ]
    }
   ],
   "source": [
    "'''\n",
    "# Example Input:\n",
    "text = \"Hello World\"\n",
    "# Expected Output:\n",
    "3\n",
    "'''\n",
    "def count_vowels(word):\n",
    "    vcount=0\n",
    "    for i in word:\n",
    "        if (i == 'a' or i == 'A' or i =='e' or i =='E' or i == 'i' or i == 'I' or i == 'o' or i == 'O' or i == 'u' or i =='U' ):\n",
    "            vcount+=1\n",
    "    return vcount\n",
    "\n",
    "print(count_vowels(\"MOHAmed\"))     \n"
   ]
  },
  {
   "cell_type": "markdown",
   "metadata": {},
   "source": [
    "### Question: Find the Maximum Value in a List Using a Function\n",
    "Description: Write a function named find_max that takes a list of integers as an argument and returns the maximum value in the list. \n",
    "\n",
    "Do not use Python’s built-in max() function. The function should handle cases where the list is empty by returning None.\n"
   ]
  },
  {
   "cell_type": "code",
   "execution_count": 18,
   "metadata": {},
   "outputs": [
    {
     "name": "stdout",
     "output_type": "stream",
     "text": [
      "8\n"
     ]
    }
   ],
   "source": [
    "'''\n",
    "# Example Input:\n",
    "numbers = [3, 5, 2, 8, 1]\n",
    "# Expected Output:\n",
    "8\n",
    "'''\n",
    "def find_max(numbers):\n",
    "    if numbers == []:\n",
    "        return None\n",
    "    else:\n",
    "        max = numbers[0]\n",
    "        for i in numbers:\n",
    "            if max<i:\n",
    "                max = i\n",
    "        return max             \n",
    "\n",
    "\n",
    "numbers = [3,5,2,8,1]    \n",
    "print(find_max(numbers))            \n",
    "\n",
    "        "
   ]
  }
 ],
 "metadata": {
  "kernelspec": {
   "display_name": "Python 3",
   "language": "python",
   "name": "python3"
  },
  "language_info": {
   "codemirror_mode": {
    "name": "ipython",
    "version": 3
   },
   "file_extension": ".py",
   "mimetype": "text/x-python",
   "name": "python",
   "nbconvert_exporter": "python",
   "pygments_lexer": "ipython3",
   "version": "3.13.0"
  }
 },
 "nbformat": 4,
 "nbformat_minor": 4
}
